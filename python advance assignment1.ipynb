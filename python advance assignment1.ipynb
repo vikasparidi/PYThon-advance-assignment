{
 "cells": [
  {
   "cell_type": "markdown",
   "metadata": {},
   "source": [
    "# Q1. What is the purpose of Python's OOP?"
   ]
  },
  {
   "cell_type": "markdown",
   "metadata": {},
   "source": [
    "The main thing that comes into picture when we tak about OOPS concept is all about the CLASS and OBJECTS.\n",
    "\n",
    "The main purpose to use this class and object is to get the reusability of code under a single class.\n",
    "\n",
    "\n",
    "The main aim is to implement real entitites like inheritance,polymorphism,encapsulation."
   ]
  },
  {
   "cell_type": "markdown",
   "metadata": {},
   "source": [
    "# Q2. Where does an inheritance search look for an attribute?"
   ]
  },
  {
   "cell_type": "markdown",
   "metadata": {},
   "source": [
    "Inheritance is the procress in which one class inherits the properties of the other class.\n",
    "\n",
    "\n",
    "\n",
    "Mainly the properties are called attributes.Here the transfer of attributes takes from a parent class .And the class which inherit the attributes are called child class"
   ]
  },
  {
   "cell_type": "markdown",
   "metadata": {},
   "source": [
    "# Q3. How do you distinguish between a class object and an instance object?"
   ]
  },
  {
   "cell_type": "markdown",
   "metadata": {},
   "source": [
    "MAinly the class is an blueprint tht is made for the further involvment with the code.Where as the instance object is the one that is real and being used as a class object."
   ]
  },
  {
   "cell_type": "markdown",
   "metadata": {},
   "source": [
    "# Q4. What makes the first argument in a class’s method function special?"
   ]
  },
  {
   "cell_type": "markdown",
   "metadata": {},
   "source": [
    "# The first argument of the class including the init method shows that it is the first instance of the class.And from here the inherite properties transfers to the child classes."
   ]
  },
  {
   "cell_type": "markdown",
   "metadata": {},
   "source": [
    "# Q5. What is the purpose of the __init__ method?"
   ]
  },
  {
   "cell_type": "markdown",
   "metadata": {},
   "source": [
    "The main purpose of init method is that it creates a pointer with respect to every element that is being passed.\n",
    "\n",
    "\n",
    "init usually represents as __init(self,\"a\",\"b\")\n",
    "\n",
    "\n",
    "here self is the pointer where it point outs the every element"
   ]
  },
  {
   "cell_type": "markdown",
   "metadata": {},
   "source": [
    "# Q6. What is the process for creating a class instance?"
   ]
  },
  {
   "cell_type": "markdown",
   "metadata": {},
   "source": [
    "Create a class.....with using the keyword called class\n",
    "\n",
    "\n",
    "call the class using a class name and assign it to a variable.\n",
    "\n",
    "\n",
    "\n",
    "pass what ever arguments required using __init__\n",
    "\n",
    "\n"
   ]
  },
  {
   "cell_type": "markdown",
   "metadata": {},
   "source": [
    "# Q7. What is the process for creating a class?"
   ]
  },
  {
   "cell_type": "markdown",
   "metadata": {},
   "source": [
    "The process of creating a class starts with the \n",
    "\n",
    "1) create a class using a keyword called class. Give suitable name to the class.\n",
    "\n",
    "\n"
   ]
  },
  {
   "cell_type": "markdown",
   "metadata": {},
   "source": [
    "# Q8. How would you define the superclasses of a class?"
   ]
  },
  {
   "cell_type": "markdown",
   "metadata": {},
   "source": [
    "The class from which the class inherits is called a superclass or parentclass"
   ]
  },
  {
   "cell_type": "code",
   "execution_count": null,
   "metadata": {},
   "outputs": [],
   "source": []
  }
 ],
 "metadata": {
  "kernelspec": {
   "display_name": "Python 3",
   "language": "python",
   "name": "python3"
  },
  "language_info": {
   "codemirror_mode": {
    "name": "ipython",
    "version": 3
   },
   "file_extension": ".py",
   "mimetype": "text/x-python",
   "name": "python",
   "nbconvert_exporter": "python",
   "pygments_lexer": "ipython3",
   "version": "3.8.5"
  }
 },
 "nbformat": 4,
 "nbformat_minor": 4
}
